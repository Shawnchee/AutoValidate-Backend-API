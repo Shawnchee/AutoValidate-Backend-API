{
 "cells": [
  {
   "cell_type": "markdown",
   "id": "906e9e97",
   "metadata": {},
   "source": [
    "# Ingesting Data of Car Model / Brand / Manufactured Year into Qdrant"
   ]
  },
  {
   "cell_type": "code",
   "execution_count": 21,
   "id": "cebf64c0",
   "metadata": {},
   "outputs": [
    {
     "name": "stdout",
     "output_type": "stream",
     "text": [
      "collections=[]\n"
     ]
    }
   ],
   "source": [
    "from qdrant_client import QdrantClient\n",
    "from qdrant_client.models import Distance, VectorParams, PointStruct\n",
    "from sentence_transformers import SentenceTransformer\n",
    "from dotenv import load_dotenv\n",
    "import os\n",
    "import pandas as pd\n",
    "import numpy as np\n",
    "import io\n",
    "\n",
    "load_dotenv()\n",
    "\n",
    "QDRANT_API_KEY = os.getenv('QDRANT_API_KEY')\n",
    "QDRANT_URL = os.getenv('QDRANT_URL')\n",
    "\n",
    "qdrant_client = QdrantClient(\n",
    "    url=QDRANT_URL,\n",
    "    api_key=QDRANT_API_KEY,\n",
    ")\n",
    "\n",
    "print(qdrant_client.get_collections())"
   ]
  },
  {
   "cell_type": "code",
   "execution_count": 22,
   "id": "18a7b55a",
   "metadata": {},
   "outputs": [
    {
     "data": {
      "text/html": [
       "<div>\n",
       "<style scoped>\n",
       "    .dataframe tbody tr th:only-of-type {\n",
       "        vertical-align: middle;\n",
       "    }\n",
       "\n",
       "    .dataframe tbody tr th {\n",
       "        vertical-align: top;\n",
       "    }\n",
       "\n",
       "    .dataframe thead th {\n",
       "        text-align: right;\n",
       "    }\n",
       "</style>\n",
       "<table border=\"1\" class=\"dataframe\">\n",
       "  <thead>\n",
       "    <tr style=\"text-align: right;\">\n",
       "      <th></th>\n",
       "      <th>id</th>\n",
       "      <th>car_brand</th>\n",
       "      <th>car_model</th>\n",
       "      <th>year_start</th>\n",
       "      <th>year_end</th>\n",
       "    </tr>\n",
       "  </thead>\n",
       "  <tbody>\n",
       "    <tr>\n",
       "      <th>0</th>\n",
       "      <td>1</td>\n",
       "      <td>Proton</td>\n",
       "      <td>S70</td>\n",
       "      <td>2023</td>\n",
       "      <td>2025</td>\n",
       "    </tr>\n",
       "    <tr>\n",
       "      <th>1</th>\n",
       "      <td>2</td>\n",
       "      <td>Proton</td>\n",
       "      <td>Persona</td>\n",
       "      <td>1993</td>\n",
       "      <td>2025</td>\n",
       "    </tr>\n",
       "    <tr>\n",
       "      <th>2</th>\n",
       "      <td>3</td>\n",
       "      <td>Proton</td>\n",
       "      <td>Perdana</td>\n",
       "      <td>2013</td>\n",
       "      <td>2025</td>\n",
       "    </tr>\n",
       "    <tr>\n",
       "      <th>3</th>\n",
       "      <td>4</td>\n",
       "      <td>Proton</td>\n",
       "      <td>Saga</td>\n",
       "      <td>1985</td>\n",
       "      <td>2025</td>\n",
       "    </tr>\n",
       "    <tr>\n",
       "      <th>4</th>\n",
       "      <td>5</td>\n",
       "      <td>Proton</td>\n",
       "      <td>X90</td>\n",
       "      <td>2023</td>\n",
       "      <td>2025</td>\n",
       "    </tr>\n",
       "  </tbody>\n",
       "</table>\n",
       "</div>"
      ],
      "text/plain": [
       "   id car_brand car_model  year_start  year_end\n",
       "0   1    Proton       S70        2023      2025\n",
       "1   2    Proton   Persona        1993      2025\n",
       "2   3    Proton   Perdana        2013      2025\n",
       "3   4    Proton      Saga        1985      2025\n",
       "4   5    Proton       X90        2023      2025"
      ]
     },
     "execution_count": 22,
     "metadata": {},
     "output_type": "execute_result"
    }
   ],
   "source": [
    "df = pd.read_csv('car_dataset.csv')\n",
    "df.head()"
   ]
  },
  {
   "cell_type": "code",
   "execution_count": 23,
   "id": "c889eb14",
   "metadata": {},
   "outputs": [
    {
     "name": "stdout",
     "output_type": "stream",
     "text": [
      "Created collection 'car_data'\n",
      "Added payload index on vector_type to collection 'car_data'\n"
     ]
    }
   ],
   "source": [
    "# Create collection with payload index for vector_type\n",
    "from qdrant_client.models import PayloadSchemaType\n",
    "\n",
    "# Collection name\n",
    "collection_name = \"car_data\"  \n",
    "\n",
    "# Check if collection exists\n",
    "collections = qdrant_client.get_collections().collections\n",
    "collection_names = [c.name for c in collections]\n",
    "\n",
    "if collection_name in collection_names:\n",
    "    # Delete existing collection to recreate with proper indexes\n",
    "    qdrant_client.delete_collection(collection_name)\n",
    "    print(f\"Deleted existing collection '{collection_name}'\")\n",
    "\n",
    "qdrant_client.create_collection(\n",
    "    collection_name=collection_name,\n",
    "    vectors_config=VectorParams(size=384, distance=Distance.COSINE)\n",
    ")\n",
    "print(f\"Created collection '{collection_name}'\")\n",
    "\n",
    "# Add payload index for vector_type field\n",
    "qdrant_client.create_payload_index(\n",
    "    collection_name=collection_name,\n",
    "    field_name=\"vector_type\",\n",
    "    field_schema=PayloadSchemaType.KEYWORD\n",
    ")\n",
    "print(f\"Added payload index on vector_type to collection '{collection_name}'\")"
   ]
  },
  {
   "cell_type": "code",
   "execution_count": 24,
   "id": "303d8bd8",
   "metadata": {},
   "outputs": [],
   "source": [
    "# Load the sentence transformer model\n",
    "model = SentenceTransformer(\"intfloat/multilingual-e5-small\")"
   ]
  },
  {
   "cell_type": "code",
   "execution_count": 25,
   "id": "efc29d8b",
   "metadata": {},
   "outputs": [
    {
     "name": "stdout",
     "output_type": "stream",
     "text": [
      "Created 124 points for ingestion\n",
      "Successfully ingested 124 points into Qdrant collection 'car_data'\n"
     ]
    }
   ],
   "source": [
    "# Function to create points from DataFrame with enhanced embedding context\n",
    "def create_points_from_df(df):\n",
    "    brand_points = []\n",
    "    model_points = []\n",
    "    \n",
    "    for idx, row in df.iterrows():\n",
    "        # Create a record for car brand with enhanced context\n",
    "        # Adding \"car brand\" to make the embedding more context-aware\n",
    "        brand_embedding = model.encode(row['car_brand'])\n",
    "        brand_point = PointStruct(\n",
    "            id=int(row['id']),\n",
    "            vector=brand_embedding.tolist(),\n",
    "            payload={\n",
    "                \"id\": int(row['id']),\n",
    "                \"car_brand\": row['car_brand'],\n",
    "                \"car_model\": row['car_model'],\n",
    "                \"year_start\": int(row['year_start']),\n",
    "                \"year_end\": int(row['year_end']),\n",
    "                \"vector_type\": \"brand\"\n",
    "            }\n",
    "        )\n",
    "        brand_points.append(brand_point)\n",
    "        \n",
    "        # Create a record for car model with enhanced context\n",
    "        # Adding brand context to improve model embeddings\n",
    "        model_embedding = model.encode(row['car_model'])\n",
    "        model_point = PointStruct(\n",
    "            # Use offset for model IDs to avoid collision with brand IDs\n",
    "            id=int(row['id']) + 10000,  \n",
    "            vector=model_embedding.tolist(),\n",
    "            payload={\n",
    "                \"id\": int(row['id']),\n",
    "                \"car_brand\": row['car_brand'],\n",
    "                \"car_model\": row['car_model'],\n",
    "                \"year_start\": int(row['year_start']),\n",
    "                \"year_end\": int(row['year_end']),\n",
    "                \"vector_type\": \"model\"\n",
    "            }\n",
    "        )\n",
    "        model_points.append(model_point)\n",
    "    \n",
    "    return brand_points + model_points\n",
    "\n",
    "# Create points from the DataFrame\n",
    "points = create_points_from_df(df)\n",
    "print(f\"Created {len(points)} points for ingestion\")\n",
    "\n",
    "# Ingest the data into Qdrant\n",
    "qdrant_client.upsert(\n",
    "    collection_name=collection_name,\n",
    "    points=points\n",
    ")\n",
    "\n",
    "print(f\"Successfully ingested {len(points)} points into Qdrant collection '{collection_name}'\")"
   ]
  }
 ],
 "metadata": {
  "kernelspec": {
   "display_name": "venv",
   "language": "python",
   "name": "python3"
  },
  "language_info": {
   "codemirror_mode": {
    "name": "ipython",
    "version": 3
   },
   "file_extension": ".py",
   "mimetype": "text/x-python",
   "name": "python",
   "nbconvert_exporter": "python",
   "pygments_lexer": "ipython3",
   "version": "3.12.0"
  }
 },
 "nbformat": 4,
 "nbformat_minor": 5
}
